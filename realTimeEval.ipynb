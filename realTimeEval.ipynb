{
 "cells": [
  {
   "cell_type": "code",
   "execution_count": null,
   "metadata": {},
   "outputs": [],
   "source": [
    "import train\n",
    "\n",
    "dfList = train.transform()"
   ]
  },
  {
   "cell_type": "code",
   "execution_count": 10,
   "metadata": {},
   "outputs": [
    {
     "name": "stdout",
     "output_type": "stream",
     "text": [
      "0.9181818181818182 0.08181818181818182\n",
      "0.21951219512195122 0.7804878048780488\n",
      "0.0 1.0\n"
     ]
    }
   ],
   "source": [
    "import json\n",
    "from sklearn.metrics import confusion_matrix\n",
    "\n",
    "with open('./evaluationData.json', 'r') as file:\n",
    "  fileData = json.load(file)\n",
    "  numSubject = len(fileData)\n",
    "  \n",
    "  for username in fileData:\n",
    "    tpr, frr, far = [0, 0, 0]\n",
    "    tp = fileData[username][\"predict_1\"]\n",
    "    fn = fileData[username][\"predict_0\"]\n",
    "    \n",
    "    tpr = tp / (tp + fn)\n",
    "    frr = fn / (tp + fn)\n",
    "    print(tpr, frr)"
   ]
  }
 ],
 "metadata": {
  "kernelspec": {
   "display_name": "Python 3",
   "language": "python",
   "name": "python3"
  },
  "language_info": {
   "codemirror_mode": {
    "name": "ipython",
    "version": 3
   },
   "file_extension": ".py",
   "mimetype": "text/x-python",
   "name": "python",
   "nbconvert_exporter": "python",
   "pygments_lexer": "ipython3",
   "version": "3.10.6"
  },
  "orig_nbformat": 4
 },
 "nbformat": 4,
 "nbformat_minor": 2
}
