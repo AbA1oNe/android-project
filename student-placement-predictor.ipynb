{
 "cells": [
  {
   "cell_type": "code",
   "execution_count": 1,
   "id": "a69b3232",
   "metadata": {},
   "outputs": [
    {
     "data": {
      "text/plain": [
       "(1, 57)"
      ]
     },
     "execution_count": 1,
     "metadata": {},
     "output_type": "execute_result"
    }
   ],
   "source": [
    "import numpy as np\n",
    "import pandas as pd\n",
    "from sklearn.model_selection import train_test_split\n",
    "from sklearn import svm\n",
    "from sklearn.metrics import accuracy_score\n",
    "from imblearn.over_sampling import SMOTE\n",
    "from train import Train"
   ]
  },
  {
   "cell_type": "code",
   "execution_count": 26,
   "id": "39097193",
   "metadata": {},
   "outputs": [],
   "source": [
    "df = pd.read_csv('students_placement.csv')"
   ]
  },
  {
   "cell_type": "code",
   "execution_count": 27,
   "id": "44ecb891",
   "metadata": {},
   "outputs": [
    {
     "data": {
      "text/plain": [
       "(300, 4)"
      ]
     },
     "execution_count": 27,
     "metadata": {},
     "output_type": "execute_result"
    }
   ],
   "source": [
    "df.shape"
   ]
  },
  {
   "cell_type": "code",
   "execution_count": 3,
   "id": "0102f6be",
   "metadata": {},
   "outputs": [
    {
     "data": {
      "text/html": [
       "<div>\n",
       "<style scoped>\n",
       "    .dataframe tbody tr th:only-of-type {\n",
       "        vertical-align: middle;\n",
       "    }\n",
       "\n",
       "    .dataframe tbody tr th {\n",
       "        vertical-align: top;\n",
       "    }\n",
       "\n",
       "    .dataframe thead th {\n",
       "        text-align: right;\n",
       "    }\n",
       "</style>\n",
       "<table border=\"1\" class=\"dataframe\">\n",
       "  <thead>\n",
       "    <tr style=\"text-align: right;\">\n",
       "      <th></th>\n",
       "      <th>duration</th>\n",
       "      <th>startX</th>\n",
       "      <th>startY</th>\n",
       "      <th>endX</th>\n",
       "      <th>endY</th>\n",
       "      <th>displacement</th>\n",
       "      <th>pressureMedian</th>\n",
       "      <th>sizeMedian</th>\n",
       "      <th>averageSpeed</th>\n",
       "      <th>directionOfEndToEndLine</th>\n",
       "      <th>averageDirectionEnsemble</th>\n",
       "      <th>AXmax</th>\n",
       "      <th>AXmin</th>\n",
       "      <th>AXmean</th>\n",
       "      <th>AXmedian</th>\n",
       "      <th>AXSD</th>\n",
       "      <th>AYmax</th>\n",
       "      <th>AYmin</th>\n",
       "      <th>AYmean</th>\n",
       "      <th>AYmedian</th>\n",
       "      <th>AYSD</th>\n",
       "      <th>AZmax</th>\n",
       "      <th>AZmin</th>\n",
       "      <th>AZmean</th>\n",
       "      <th>AZmedian</th>\n",
       "      <th>AZSD</th>\n",
       "      <th>GXmax</th>\n",
       "      <th>GXmin</th>\n",
       "      <th>GXmean</th>\n",
       "      <th>GXmedian</th>\n",
       "      <th>GXSD</th>\n",
       "      <th>GYmax</th>\n",
       "      <th>GYmin</th>\n",
       "      <th>GYmean</th>\n",
       "      <th>GYmedian</th>\n",
       "      <th>GYSD</th>\n",
       "      <th>GZmax</th>\n",
       "      <th>GZmin</th>\n",
       "      <th>GZmean</th>\n",
       "      <th>GZmedian</th>\n",
       "      <th>GZSD</th>\n",
       "      <th>MXmax</th>\n",
       "      <th>MXmin</th>\n",
       "      <th>MXmean</th>\n",
       "      <th>MXmedian</th>\n",
       "      <th>MXSD</th>\n",
       "      <th>MYmax</th>\n",
       "      <th>MYmin</th>\n",
       "      <th>MYmean</th>\n",
       "      <th>MYmedian</th>\n",
       "      <th>MYSD</th>\n",
       "      <th>MZmax</th>\n",
       "      <th>MZmin</th>\n",
       "      <th>MZmean</th>\n",
       "      <th>MZmedian</th>\n",
       "      <th>MZSD</th>\n",
       "      <th>label</th>\n",
       "    </tr>\n",
       "  </thead>\n",
       "  <tbody>\n",
       "    <tr>\n",
       "      <th>0</th>\n",
       "      <td>144</td>\n",
       "      <td>920</td>\n",
       "      <td>1562</td>\n",
       "      <td>581</td>\n",
       "      <td>1619</td>\n",
       "      <td>343.75864</td>\n",
       "      <td>1</td>\n",
       "      <td>0.019608</td>\n",
       "      <td>2.388262</td>\n",
       "      <td>2.975009</td>\n",
       "      <td>2.800277</td>\n",
       "      <td>0.262313</td>\n",
       "      <td>-1.117448</td>\n",
       "      <td>-0.569123</td>\n",
       "      <td>-0.765404</td>\n",
       "      <td>0.49199</td>\n",
       "      <td>6.990332</td>\n",
       "      <td>6.513562</td>\n",
       "      <td>6.712993</td>\n",
       "      <td>6.719645</td>\n",
       "      <td>0.140411</td>\n",
       "      <td>7.421639</td>\n",
       "      <td>6.714859</td>\n",
       "      <td>7.09434</td>\n",
       "      <td>7.100701</td>\n",
       "      <td>0.167576</td>\n",
       "      <td>0.268039</td>\n",
       "      <td>0.049666</td>\n",
       "      <td>0.183495</td>\n",
       "      <td>0.198267</td>\n",
       "      <td>0.059267</td>\n",
       "      <td>1.089068</td>\n",
       "      <td>0.101597</td>\n",
       "      <td>0.762929</td>\n",
       "      <td>0.903717</td>\n",
       "      <td>0.324447</td>\n",
       "      <td>0.201462</td>\n",
       "      <td>0.042609</td>\n",
       "      <td>0.112471</td>\n",
       "      <td>0.100665</td>\n",
       "      <td>0.060275</td>\n",
       "      <td>-28.593752</td>\n",
       "      <td>-28.875002</td>\n",
       "      <td>-28.741074</td>\n",
       "      <td>-28.725</td>\n",
       "      <td>0.106269</td>\n",
       "      <td>0.8625</td>\n",
       "      <td>0.45</td>\n",
       "      <td>0.707143</td>\n",
       "      <td>0.73125</td>\n",
       "      <td>0.123853</td>\n",
       "      <td>-28.10625</td>\n",
       "      <td>-28.987501</td>\n",
       "      <td>-28.577682</td>\n",
       "      <td>-28.743752</td>\n",
       "      <td>0.327444</td>\n",
       "      <td>0</td>\n",
       "    </tr>\n",
       "  </tbody>\n",
       "</table>\n",
       "</div>"
      ],
      "text/plain": [
       "   duration  startX  startY  endX  ...     MZmean   MZmedian      MZSD  label\n",
       "0       144     920    1562   581  ... -28.577682 -28.743752  0.327444      0\n",
       "\n",
       "[1 rows x 57 columns]"
      ]
     },
     "execution_count": 3,
     "metadata": {},
     "output_type": "execute_result"
    }
   ],
   "source": [
    "df.sample(5)"
   ]
  },
  {
   "cell_type": "code",
   "execution_count": 4,
   "id": "bebb8518",
   "metadata": {},
   "outputs": [],
   "source": [
    "X = df.drop(columns=['label'])\n",
    "y = df['label']"
   ]
  },
  {
   "cell_type": "code",
   "execution_count": 5,
   "id": "7bf7d3ce",
   "metadata": {},
   "outputs": [
    {
     "ename": "ValueError",
     "evalue": "With n_samples=1, test_size=0.3 and train_size=None, the resulting train set will be empty. Adjust any of the aforementioned parameters.",
     "output_type": "error",
     "traceback": [
      "\u001b[1;31m---------------------------------------------------------------------------\u001b[0m",
      "\u001b[1;31mValueError\u001b[0m                                Traceback (most recent call last)",
      "Cell \u001b[1;32mIn[5], line 1\u001b[0m\n\u001b[1;32m----> 1\u001b[0m X_train,X_test,y_train,y_test \u001b[39m=\u001b[39m train_test_split(X,y,test_size\u001b[39m=\u001b[39;49m\u001b[39m0.3\u001b[39;49m,random_state\u001b[39m=\u001b[39;49m\u001b[39m2\u001b[39;49m, stratify\u001b[39m=\u001b[39;49my) \u001b[39m#stratify=y?\u001b[39;00m\n\u001b[0;32m      2\u001b[0m \u001b[39mprint\u001b[39m(pd\u001b[39m.\u001b[39mSeries(y_train)\u001b[39m.\u001b[39mvalue_counts())\n\u001b[0;32m      3\u001b[0m \u001b[39mprint\u001b[39m(pd\u001b[39m.\u001b[39mSeries(y_test)\u001b[39m.\u001b[39mvalue_counts())\n",
      "File \u001b[1;32mc:\\Users\\louis\\AppData\\Local\\Programs\\Python\\Python310\\lib\\site-packages\\sklearn\\model_selection\\_split.py:2562\u001b[0m, in \u001b[0;36mtrain_test_split\u001b[1;34m(test_size, train_size, random_state, shuffle, stratify, *arrays)\u001b[0m\n\u001b[0;32m   2559\u001b[0m arrays \u001b[39m=\u001b[39m indexable(\u001b[39m*\u001b[39marrays)\n\u001b[0;32m   2561\u001b[0m n_samples \u001b[39m=\u001b[39m _num_samples(arrays[\u001b[39m0\u001b[39m])\n\u001b[1;32m-> 2562\u001b[0m n_train, n_test \u001b[39m=\u001b[39m _validate_shuffle_split(\n\u001b[0;32m   2563\u001b[0m     n_samples, test_size, train_size, default_test_size\u001b[39m=\u001b[39;49m\u001b[39m0.25\u001b[39;49m\n\u001b[0;32m   2564\u001b[0m )\n\u001b[0;32m   2566\u001b[0m \u001b[39mif\u001b[39;00m shuffle \u001b[39mis\u001b[39;00m \u001b[39mFalse\u001b[39;00m:\n\u001b[0;32m   2567\u001b[0m     \u001b[39mif\u001b[39;00m stratify \u001b[39mis\u001b[39;00m \u001b[39mnot\u001b[39;00m \u001b[39mNone\u001b[39;00m:\n",
      "File \u001b[1;32mc:\\Users\\louis\\AppData\\Local\\Programs\\Python\\Python310\\lib\\site-packages\\sklearn\\model_selection\\_split.py:2236\u001b[0m, in \u001b[0;36m_validate_shuffle_split\u001b[1;34m(n_samples, test_size, train_size, default_test_size)\u001b[0m\n\u001b[0;32m   2233\u001b[0m n_train, n_test \u001b[39m=\u001b[39m \u001b[39mint\u001b[39m(n_train), \u001b[39mint\u001b[39m(n_test)\n\u001b[0;32m   2235\u001b[0m \u001b[39mif\u001b[39;00m n_train \u001b[39m==\u001b[39m \u001b[39m0\u001b[39m:\n\u001b[1;32m-> 2236\u001b[0m     \u001b[39mraise\u001b[39;00m \u001b[39mValueError\u001b[39;00m(\n\u001b[0;32m   2237\u001b[0m         \u001b[39m\"\u001b[39m\u001b[39mWith n_samples=\u001b[39m\u001b[39m{}\u001b[39;00m\u001b[39m, test_size=\u001b[39m\u001b[39m{}\u001b[39;00m\u001b[39m and train_size=\u001b[39m\u001b[39m{}\u001b[39;00m\u001b[39m, the \u001b[39m\u001b[39m\"\u001b[39m\n\u001b[0;32m   2238\u001b[0m         \u001b[39m\"\u001b[39m\u001b[39mresulting train set will be empty. Adjust any of the \u001b[39m\u001b[39m\"\u001b[39m\n\u001b[0;32m   2239\u001b[0m         \u001b[39m\"\u001b[39m\u001b[39maforementioned parameters.\u001b[39m\u001b[39m\"\u001b[39m\u001b[39m.\u001b[39mformat(n_samples, test_size, train_size)\n\u001b[0;32m   2240\u001b[0m     )\n\u001b[0;32m   2242\u001b[0m \u001b[39mreturn\u001b[39;00m n_train, n_test\n",
      "\u001b[1;31mValueError\u001b[0m: With n_samples=1, test_size=0.3 and train_size=None, the resulting train set will be empty. Adjust any of the aforementioned parameters."
     ]
    }
   ],
   "source": [
    "X_train,X_test,y_train,y_test = train_test_split(X,y,test_size=0.3,random_state=2, stratify=y) #stratify=y?\n",
    "print(pd.Series(y_train).value_counts())\n",
    "print(pd.Series(y_test).value_counts())\n",
    "X_re, y_re = SMOTE(random_state=42, k_neighbors=2).fit_resample(X_train, y_train) #only apply SMOTE on training dataset\n",
    "print(pd.Series(y_re).value_counts())"
   ]
  },
  {
   "cell_type": "code",
   "execution_count": 31,
   "id": "08abd989",
   "metadata": {},
   "outputs": [
    {
     "name": "stdout",
     "output_type": "stream",
     "text": [
      "0.8726415094339622\n",
      "0.8888888888888888\n"
     ]
    }
   ],
   "source": [
    "model = svm.SVC(kernel='rbf', C=10)\n",
    "\n",
    "model.fit(X_re,y_re)\n",
    "y_pred = model.predict(X_test)\n",
    "\n",
    "print(model.score(X_re, y_re))\n",
    "print(model.score(X_test, y_test))"
   ]
  },
  {
   "cell_type": "code",
   "execution_count": 32,
   "id": "52ce0f1a",
   "metadata": {},
   "outputs": [],
   "source": [
    "import pickle \n",
    "pickle.dump(model,open('model.pkl','wb'))"
   ]
  }
 ],
 "metadata": {
  "kernelspec": {
   "display_name": "Python 3",
   "language": "python",
   "name": "python3"
  },
  "language_info": {
   "codemirror_mode": {
    "name": "ipython",
    "version": 3
   },
   "file_extension": ".py",
   "mimetype": "text/x-python",
   "name": "python",
   "nbconvert_exporter": "python",
   "pygments_lexer": "ipython3",
   "version": "3.10.6"
  },
  "vscode": {
   "interpreter": {
    "hash": "52af2100627e19856ff19ffeecc72f0dde92b1b054ee87d4964f694fb586b018"
   }
  }
 },
 "nbformat": 4,
 "nbformat_minor": 5
}
