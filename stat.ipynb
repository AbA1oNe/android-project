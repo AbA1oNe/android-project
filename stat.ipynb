{
 "cells": [
  {
   "cell_type": "code",
   "execution_count": 1,
   "metadata": {},
   "outputs": [],
   "source": [
    "import matplotlib.pyplot as plt\n",
    "import json\n",
    "import math"
   ]
  },
  {
   "cell_type": "code",
   "execution_count": 2,
   "metadata": {},
   "outputs": [
    {
     "name": "stdout",
     "output_type": "stream",
     "text": [
      "19 subjects included\n",
      "1092922\n",
      "260\n",
      "1092954\n",
      "245\n",
      "dama0623\n",
      "234\n",
      "1094908\n",
      "228\n",
      "4109034029\n",
      "222\n",
      "611034\n",
      "203\n",
      "1094841\n",
      "224\n",
      "D1186959\n",
      "211\n",
      "411411159\n",
      "187\n",
      "1094845\n",
      "211\n",
      "1094842\n",
      "208\n",
      "110\n",
      "196\n",
      "pomiii5093\n",
      "186\n",
      "1092574\n",
      "168\n",
      "anyu5471\n",
      "175\n",
      "px\n",
      "140\n",
      "wardlin\n",
      "169\n",
      "lenny\n",
      "186\n",
      "1092960\n",
      "158\n",
      "average of 200.57894736842104 scrolls per subject\n",
      "maximum number of scrolls is 260\n",
      "minimum number of scrolls is 140\n"
     ]
    }
   ],
   "source": [
    "with open('data.json', 'r') as jsonFile:\n",
    "    data = json.load(jsonFile)\n",
    "    scrollNumList = []\n",
    "    subjectList = []\n",
    "    numSubject = len(data)\n",
    "    avg = 0\n",
    "    minScrolls = math.inf\n",
    "    maxScrolls = 0\n",
    "    print(f\"{numSubject} subjects included\")\n",
    "    \n",
    "    for subject in data:\n",
    "        subjectList.append(subject)\n",
    "        scrollNumList.append(len(data[subject]))\n",
    "        print(subject)\n",
    "        print(len(data[subject]))\n",
    "        avg += len(data[subject])\n",
    "        minScrolls = min(minScrolls, len(data[subject]))\n",
    "        maxScrolls = max(maxScrolls, len(data[subject]))\n",
    "    avg = avg / numSubject\n",
    "    print(f\"average of {avg} scrolls per subject\")\n",
    "    print(f\"maximum number of scrolls is {maxScrolls}\")\n",
    "    print(f\"minimum number of scrolls is {minScrolls}\")   "
   ]
  }
 ],
 "metadata": {
  "kernelspec": {
   "display_name": "Python 3",
   "language": "python",
   "name": "python3"
  },
  "language_info": {
   "codemirror_mode": {
    "name": "ipython",
    "version": 3
   },
   "file_extension": ".py",
   "mimetype": "text/x-python",
   "name": "python",
   "nbconvert_exporter": "python",
   "pygments_lexer": "ipython3",
   "version": "3.10.6"
  },
  "orig_nbformat": 4
 },
 "nbformat": 4,
 "nbformat_minor": 2
}
