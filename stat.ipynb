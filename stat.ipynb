{
 "cells": [
  {
   "cell_type": "code",
   "execution_count": 1,
   "metadata": {},
   "outputs": [],
   "source": [
    "import matplotlib.pyplot as plt\n",
    "import json\n",
    "import math"
   ]
  },
  {
   "cell_type": "code",
   "execution_count": 3,
   "metadata": {},
   "outputs": [
    {
     "name": "stdout",
     "output_type": "stream",
     "text": [
      "8 subjects included\n",
      "1092922\n",
      "260\n",
      "1092954\n",
      "264\n",
      "dama0623\n",
      "234\n",
      "1094908\n",
      "229\n",
      "4109034029\n",
      "268\n",
      "611034\n",
      "203\n",
      "1094841\n",
      "227\n",
      "D1186959\n",
      "218\n",
      "average of 237.875 scrolls per subject\n",
      "maximum number of scrolls is 268\n",
      "minimum number of scrolls is 203\n"
     ]
    }
   ],
   "source": [
    "with open('data.json', 'r') as jsonFile:\n",
    "    data = json.load(jsonFile)\n",
    "    scrollNumList = []\n",
    "    subjectList = []\n",
    "    numSubject = len(data)\n",
    "    avg = 0\n",
    "    minScrolls = math.inf\n",
    "    maxScrolls = 0\n",
    "    print(f\"{numSubject} subjects included\")\n",
    "    \n",
    "    for subject in data:\n",
    "        subjectList.append(subject)\n",
    "        scrollNumList.append(len(data[subject]))\n",
    "        print(subject)\n",
    "        print(len(data[subject]))\n",
    "        avg += len(data[subject])\n",
    "        minScrolls = min(minScrolls, len(data[subject]))\n",
    "        maxScrolls = max(maxScrolls, len(data[subject]))\n",
    "    avg = avg / numSubject\n",
    "    print(f\"average of {avg} scrolls per subject\")\n",
    "    print(f\"maximum number of scrolls is {maxScrolls}\")\n",
    "    print(f\"minimum number of scrolls is {minScrolls}\")\n",
    "    "
   ]
  }
 ],
 "metadata": {
  "kernelspec": {
   "display_name": "Python 3",
   "language": "python",
   "name": "python3"
  },
  "language_info": {
   "codemirror_mode": {
    "name": "ipython",
    "version": 3
   },
   "file_extension": ".py",
   "mimetype": "text/x-python",
   "name": "python",
   "nbconvert_exporter": "python",
   "pygments_lexer": "ipython3",
   "version": "3.10.6"
  },
  "orig_nbformat": 4
 },
 "nbformat": 4,
 "nbformat_minor": 2
}
