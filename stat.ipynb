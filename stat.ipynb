{
 "cells": [
  {
   "cell_type": "code",
   "execution_count": 4,
   "metadata": {},
   "outputs": [],
   "source": [
    "import matplotlib.pyplot as plt\n",
    "import json\n",
    "import math"
   ]
  },
  {
   "cell_type": "code",
   "execution_count": 5,
   "metadata": {},
   "outputs": [
    {
     "name": "stdout",
     "output_type": "stream",
     "text": [
      "5 subjects included\n",
      "average of 251.0 scrolls per subject\n",
      "maximum number of scrolls is 268\n",
      "minimum number of scrolls is 229\n"
     ]
    }
   ],
   "source": [
    "with open('data.json', 'r') as jsonFile:\n",
    "    data = json.load(jsonFile)\n",
    "    scrollNumList = []\n",
    "    subjectList = []\n",
    "    numSubject = len(data)\n",
    "    avg = 0\n",
    "    minScrolls = math.inf\n",
    "    maxScrolls = 0\n",
    "    print(f\"{numSubject} subjects included\")\n",
    "    \n",
    "    for subject in data:\n",
    "        subjectList.append(subject)\n",
    "        scrollNumList.append(len(data[subject]))\n",
    "        avg += len(data[subject])\n",
    "        minScrolls = min(minScrolls, len(data[subject]))\n",
    "        maxScrolls = max(maxScrolls, len(data[subject]))\n",
    "    avg = avg / numSubject\n",
    "    print(f\"average of {avg} scrolls per subject\")\n",
    "    print(f\"maximum number of scrolls is {maxScrolls}\")\n",
    "    print(f\"minimum number of scrolls is {minScrolls}\")\n",
    "    "
   ]
  }
 ],
 "metadata": {
  "kernelspec": {
   "display_name": "Python 3",
   "language": "python",
   "name": "python3"
  },
  "language_info": {
   "codemirror_mode": {
    "name": "ipython",
    "version": 3
   },
   "file_extension": ".py",
   "mimetype": "text/x-python",
   "name": "python",
   "nbconvert_exporter": "python",
   "pygments_lexer": "ipython3",
   "version": "3.10.6"
  },
  "orig_nbformat": 4
 },
 "nbformat": 4,
 "nbformat_minor": 2
}
